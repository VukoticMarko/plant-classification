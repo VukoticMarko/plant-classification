{
 "cells": [
  {
   "cell_type": "code",
   "execution_count": 3,
   "id": "57472755",
   "metadata": {},
   "outputs": [],
   "source": [
    "from pandas.plotting import scatter_matrix\n",
    "import matplotlib.pyplot as plt\n",
    "from sklearn import model_selection\n",
    "from sklearn.metrics import classification_report\n",
    "from sklearn.metrics import confusion_matrix\n",
    "from sklearn.metrics import accuracy_score\n",
    "from sklearn.linear_model import LogisticRegression\n",
    "from sklearn.neighbors import KNeighborsClassifier\n",
    "from sklearn.svm import SVC"
   ]
  },
  {
   "cell_type": "code",
   "execution_count": 4,
   "id": "032a80f5",
   "metadata": {},
   "outputs": [
    {
     "ename": "NameError",
     "evalue": "name 'pandas' is not defined",
     "output_type": "error",
     "traceback": [
      "\u001b[1;31m---------------------------------------------------------------------------\u001b[0m",
      "\u001b[1;31mNameError\u001b[0m                                 Traceback (most recent call last)",
      "Input \u001b[1;32mIn [4]\u001b[0m, in \u001b[0;36m<module>\u001b[1;34m\u001b[0m\n\u001b[0;32m      2\u001b[0m url \u001b[38;5;241m=\u001b[39m \u001b[38;5;124m\"\u001b[39m\u001b[38;5;124mhttps://archive.ics.uci.edu/ml/machine-learning-databases/iris/iris.data\u001b[39m\u001b[38;5;124m\"\u001b[39m\n\u001b[0;32m      3\u001b[0m names \u001b[38;5;241m=\u001b[39m [\u001b[38;5;124m'\u001b[39m\u001b[38;5;124msepal-length\u001b[39m\u001b[38;5;124m'\u001b[39m, \u001b[38;5;124m'\u001b[39m\u001b[38;5;124msepal-width\u001b[39m\u001b[38;5;124m'\u001b[39m, \u001b[38;5;124m'\u001b[39m\u001b[38;5;124mpetal-length\u001b[39m\u001b[38;5;124m'\u001b[39m, \u001b[38;5;124m'\u001b[39m\u001b[38;5;124mpetal-width\u001b[39m\u001b[38;5;124m'\u001b[39m, \u001b[38;5;124m'\u001b[39m\u001b[38;5;124mclass\u001b[39m\u001b[38;5;124m'\u001b[39m]\n\u001b[1;32m----> 4\u001b[0m dataset \u001b[38;5;241m=\u001b[39m \u001b[43mpandas\u001b[49m\u001b[38;5;241m.\u001b[39mread_csv(url, names\u001b[38;5;241m=\u001b[39mnames)\n",
      "\u001b[1;31mNameError\u001b[0m: name 'pandas' is not defined"
     ]
    }
   ],
   "source": [
    "# Load Dataset\n",
    "url = \"https://archive.ics.uci.edu/ml/machine-learning-databases/iris/iris.data\"\n",
    "names = ['sepal-length', 'sepal-width', 'petal-length', 'petal-width', 'class']\n",
    "dataset = pandas.read_csv(url, names=names)"
   ]
  },
  {
   "cell_type": "code",
   "execution_count": null,
   "id": "717b0716",
   "metadata": {},
   "outputs": [],
   "source": [
    "# Shape (rows, columns)\n",
    "print(dataset.shape)"
   ]
  },
  {
   "cell_type": "code",
   "execution_count": null,
   "id": "53d59b16",
   "metadata": {},
   "outputs": [],
   "source": [
    "# Head\n",
    "print(dataset.head(30))"
   ]
  },
  {
   "cell_type": "code",
   "execution_count": null,
   "id": "6b913e7b",
   "metadata": {},
   "outputs": [],
   "source": [
    "# Descriptive statistics\n",
    "print(dataset.describe())"
   ]
  },
  {
   "cell_type": "code",
   "execution_count": null,
   "id": "7c615579",
   "metadata": {},
   "outputs": [],
   "source": [
    "# Class distribution (flower type)\n",
    "print(dataset.groupby('class').size())"
   ]
  },
  {
   "cell_type": "code",
   "execution_count": null,
   "id": "fed736d5",
   "metadata": {},
   "outputs": [],
   "source": [
    "# Histograms for all columns. X - range ; Y - frequency\n",
    "dataset.hist()\n",
    "plt.show()"
   ]
  },
  {
   "cell_type": "code",
   "execution_count": null,
   "id": "b65d54c7",
   "metadata": {},
   "outputs": [],
   "source": [
    "# Scatter plot matrix for all columns, 2 columns at a time\n",
    "scatter_matrix(dataset)\n",
    "plt.show()"
   ]
  },
  {
   "cell_type": "code",
   "execution_count": null,
   "id": "7f6337e1",
   "metadata": {},
   "outputs": [],
   "source": [
    "# Split-out validation dataset\n",
    "array = dataset.values\n",
    "X = array[:,0:4] # Take first 4 columns (features) that will be used as input features for training\n",
    "Y = array[:,4] # Target variable for classification, 5th column (class)\n",
    "validation_size = 0.20 # 80% train, 20% validation\n",
    "seed = 5 # Seed is used to randomise data splitting process, if the seed is fixed then we ensure reproducibility\n",
    "X_train, X_validation, Y_train, Y_validation = model_selection.train_test_split(X, Y, test_size = validation_size, random_state = seed)"
   ]
  },
  {
   "cell_type": "code",
   "execution_count": null,
   "id": "9e3506c5",
   "metadata": {},
   "outputs": [],
   "source": [
    "# For evaulation\n",
    "results = []\n",
    "names = []"
   ]
  },
  {
   "cell_type": "code",
   "execution_count": null,
   "id": "17587427",
   "metadata": {},
   "outputs": [],
   "source": [
    "# Test options and evaluation metric\n",
    "seed = 5\n",
    "scoring = 'accuracy' # Number of correct predictions / Total number of Predictions"
   ]
  },
  {
   "cell_type": "code",
   "execution_count": null,
   "id": "c2023e54",
   "metadata": {},
   "outputs": [],
   "source": [
    "# Preapare models for evaulations\n",
    "models = []\n",
    "models.append(('LR', LogisticRegression(max_iter=2500)))\n",
    "models.append(('KNN', KNeighborsClassifier()))\n",
    "models.append(('SVM', SVC()))"
   ]
  },
  {
   "cell_type": "code",
   "execution_count": null,
   "id": "342d0ff2",
   "metadata": {},
   "outputs": [],
   "source": [
    "# Cross-Validation (Cross-Validation Evaluation)\n",
    "\n",
    "print('Mean is average accuracy score across all folds in the cross-validation process.' + '\\n' +\n",
    "         'Standard Deviation measures the variability or spread of the accuracy scores across the folds. A low standard deviation means the model performed similarly on all folds, while a high standard deviation suggests that the model’s performance was more inconsistent, varying from fold to fold.' + '\\n')\n",
    "\n",
    "for name, model in models: # For each model do this:\n",
    "    kfold = model_selection.KFold(n_splits=10, random_state=seed, shuffle=True) # KFold trains on 9 splits of data and tests on 10th\n",
    "    cv_results = model_selection.cross_val_score(model, X_train, Y_train, cv=kfold, scoring=scoring) # 10 fold cross-validation\n",
    "    results.append(cv_results)\n",
    "    names.append(name)\n",
    "    msg = \"%s: Mean: %f Standard Deviation: (%f)\" % (name, cv_results.mean(), cv_results.std())\n",
    "    print(msg)"
   ]
  },
  {
   "cell_type": "code",
   "execution_count": null,
   "id": "83c307f8",
   "metadata": {},
   "outputs": [],
   "source": [
    "# Training & Fitting\n",
    "# Train and then make predictions with evaulation on validation dataset\n",
    "\n",
    "print('Mean Precision: The ratio of correct positive predictions to all positive predictions.' + '\\n' +\n",
    "      'Recall: The ratio of correct positive predictions to all actual positives.' + '\\n' +\n",
    "      'F1-Score: The harmonic mean of precision and recall.' + '\\n' +\n",
    "      'Support: The number of true instances for each class.' + '\\n')\n",
    "\n",
    "\n",
    "for name, model in models:  # Loop through each model in the 'models' list\n",
    "    model.fit(X_train, Y_train)  # Train the model using the training data\n",
    "    predictions = model.predict(X_validation)  # Make predictions on the validation data (new Y)\n",
    "    print(name)\n",
    "    print(accuracy_score(Y_validation, predictions))  # Print the accuracy of the model comparing it to the real Y\n",
    "    print(classification_report(Y_validation, predictions))  # Print a detailed classification report\n"
   ]
  },
  {
   "cell_type": "code",
   "execution_count": null,
   "id": "a0a945d4",
   "metadata": {},
   "outputs": [],
   "source": []
  },
  {
   "cell_type": "code",
   "execution_count": null,
   "id": "2c1935ea",
   "metadata": {},
   "outputs": [],
   "source": []
  },
  {
   "cell_type": "code",
   "execution_count": null,
   "id": "14a6a31f",
   "metadata": {},
   "outputs": [],
   "source": []
  }
 ],
 "metadata": {
  "kernelspec": {
   "display_name": "Python 3 (ipykernel)",
   "language": "python",
   "name": "python3"
  },
  "language_info": {
   "codemirror_mode": {
    "name": "ipython",
    "version": 3
   },
   "file_extension": ".py",
   "mimetype": "text/x-python",
   "name": "python",
   "nbconvert_exporter": "python",
   "pygments_lexer": "ipython3",
   "version": "3.9.4"
  }
 },
 "nbformat": 4,
 "nbformat_minor": 5
}
